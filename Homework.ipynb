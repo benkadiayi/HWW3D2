{
 "cells": [
  {
   "cell_type": "code",
   "execution_count": 1,
   "id": "386da43b",
   "metadata": {},
   "outputs": [
    {
     "name": "stdout",
     "output_type": "stream",
     "text": [
      "['Argentina', 'San Diego', 'Boston', 'New York']\n"
     ]
    }
   ],
   "source": [
    "### Exercise #1 \n",
    "#Filter out all of the empty strings from the list below\n",
    "places = [\" \",\"Argentina\", \" \", \"San Diego\",\"\",\"  \",\"\",\"Boston\",\"New York\"]\n",
    "\n",
    "def a_places(places):\n",
    "    for place in places:\n",
    "        if place == ' ':\n",
    "            return False\n",
    "        else:\n",
    "            return True\n",
    "new_places_list = list(filter(a_places, places))\n",
    "print(new_places_list)"
   ]
  },
  {
   "cell_type": "code",
   "execution_count": 2,
   "id": "127cb7b4",
   "metadata": {},
   "outputs": [
    {
     "name": "stdout",
     "output_type": "stream",
     "text": [
      "['Victor aNisimov', 'Gary A.J. Bernstein', 'Joel Carter', 'Andrew P. Garfield', 'David hassELHOFF']\n"
     ]
    }
   ],
   "source": [
    "### Exercise #2 \n",
    "#Write an anonymous function that sorts this list by the last name...\n",
    "#Hint: Use the \".sort()\" method and access the key\"\n",
    "author = [\"Joel Carter\", \"Victor aNisimov\", \"Andrew P. Garfield\",\"David hassELHOFF\",\"Gary A.J. Bernstein\"]\n",
    "author.sort(key=lambda author: author.split(\" \")[-1].lower())\n",
    "print(author)"
   ]
  },
  {
   "cell_type": "code",
   "execution_count": 3,
   "id": "c8f1b359",
   "metadata": {},
   "outputs": [
    {
     "name": "stdout",
     "output_type": "stream",
     "text": [
      "[[('Miami', 84.2)], [('Miami', 84.2)], [('Miami', 84.2)], [('Miami', 84.2)]]\n"
     ]
    }
   ],
   "source": [
    "### Exercise #3\n",
    "#Convert the list below from Celsius to Farhenheit, using the map function with a lambda...\n",
    "# F = (9/5)*C + 32\n",
    "places = [('Nashua',32),(\"Boston\",12),(\"Los Angelos\",44),(\"Miami\",29)]\n",
    "\n",
    "\n",
    "\n",
    "def convert(lst):\n",
    "    place =[]\n",
    "    for i in places:\n",
    "        far = (9/5)*i[1] + 32\n",
    "        tuple =(i[0],far)\n",
    "    place.append(tuple)\n",
    "    return (place)\n",
    "    \n",
    "\n",
    "convert_map = list(map(convert,places))\n",
    "print(convert_map)"
   ]
  },
  {
   "cell_type": "code",
   "execution_count": 4,
   "id": "fce1a4ad",
   "metadata": {},
   "outputs": [
    {
     "name": "stdout",
     "output_type": "stream",
     "text": [
      "iteration 0: 1\n",
      "iteration 1: 1\n",
      "iteration 2: 2\n",
      "iteration 3: 3\n",
      "iteration 4: 5\n",
      "iteration 5: 8\n"
     ]
    }
   ],
   "source": [
    "### Exercise #4 <br>\n",
    "#Write a recursion function to perform the fibonacci sequence up to the number passed in.\n",
    "def fib(n):\n",
    "    if n <= 1:\n",
    "        return 1\n",
    "    else:\n",
    "        x = fib(n-1) + fib(n-2)\n",
    "        return x\n",
    "for i in range(0,6):\n",
    "    \n",
    "    print (f\"iteration {i}: {fib(i)}\")"
   ]
  }
 ],
 "metadata": {
  "kernelspec": {
   "display_name": "Python 3",
   "language": "python",
   "name": "python3"
  },
  "language_info": {
   "codemirror_mode": {
    "name": "ipython",
    "version": 3
   },
   "file_extension": ".py",
   "mimetype": "text/x-python",
   "name": "python",
   "nbconvert_exporter": "python",
   "pygments_lexer": "ipython3",
   "version": "3.8.8"
  }
 },
 "nbformat": 4,
 "nbformat_minor": 5
}
